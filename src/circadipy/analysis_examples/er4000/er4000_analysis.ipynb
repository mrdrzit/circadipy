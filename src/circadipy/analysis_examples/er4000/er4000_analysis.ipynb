{
 "cells": [
  {
   "cell_type": "code",
   "execution_count": 1,
   "metadata": {},
   "outputs": [
    {
     "name": "stderr",
     "output_type": "stream",
     "text": [
      "PyMICE library v. 1.2.1\n",
      "\n",
      "The library is available under GPL3 license; we ask that reference to our paper\n",
      "as well as to the library itself is provided in any published research making\n",
      "use of PyMICE. Please run:\n",
      "\n",
      ">>> print(pm.__REFERENCING__)\n",
      "\n",
      "for more information (given that the library is imported as `pm`).\n",
      "\n",
      "\n"
     ]
    }
   ],
   "source": [
    "## IMPORT LIBRARIES ----------------------------------------------------------------------------------------------------\n",
    "\n",
    "%matplotlib qt\n",
    "\n",
    "%reload_ext autoreload\n",
    "%autoreload 3\n",
    "\n",
    "import sys                                                                                                              # Import sys to add paths to libraries\n",
    "import re                                                                                                               # Import re to work with regular expressions\n",
    "import glob                                                                                                             # Import glob to read files\n",
    "import matplotlib.pyplot as plt                                                                                         # Import matplotlib.pyplot to plot figures\n",
    "import tkinter as tk                                                                                                    # Import TK to open folder dialogs to select folders\n",
    "from tkinter import filedialog                                                                                          # Import filedialog to open folder dialogs to select folders\n",
    "import numpy                                                                                                            # Import numpy to work with arrays and make calculations\n",
    "from shutil import rmtree\n",
    "import random                                                                                                           # Import random to make random choices\n",
    "from datetime import datetime, timedelta                                                                                # Import time to measure time \n",
    "import time                                                                                                             # Import time to measure time\n",
    "import os                                                                                                               # Import path to work with paths\n",
    "import pandas                                                                                                           # Import pandas to work with dataframes\n",
    "import warnings                                                                                                         # Import warnings to ignore warnings\n",
    "warnings.filterwarnings('ignore')                                                                                       # Ignore warnings\n",
    "\n",
    "## IMPORT CIRCADIPY ----------------------------------------------------------------------------------------------------\n",
    "\n",
    "sys.path.append('E:\\\\github\\\\nnc-ufmg\\\\circadipy\\\\src')\n",
    "import chrono_reader as chr                                                                                             # Import chrono_reader to read data\n",
    "import chrono_plotter as chp                                                                                            # Import chrono_plotter to plot data\n",
    "import chrono_rythm as chrt                                                                                             # Import chrono_rithm to make calculations\n",
    "import chrono_simulation as chs                                                                                         # Import chrono_simulation to simulate data\n"
   ]
  },
  {
   "cell_type": "code",
   "execution_count": 4,
   "metadata": {},
   "outputs": [
    {
     "name": "stdout",
     "output_type": "stream",
     "text": [
      "The data folder is: E:/github/nnc-ufmg/circadipy/src/analysis_examples/er4000/data\n",
      "The result folder is: E:/github/nnc-ufmg/circadipy/src/analysis_examples/er4000\\results_er4000\n"
     ]
    }
   ],
   "source": [
    "## SET THE ENVIRONMENT -------------------------------------------------------------------------------------------------\n",
    "\n",
    "root = tk.Tk()                                                                                                          # Create the root window\n",
    "root.attributes('-topmost',True)                                                                                        # Keep the window on top of others\n",
    "root.iconify()                                                                                                          # Hide the root window\n",
    "\n",
    "data_folder = filedialog.askdirectory(title='Select the folder containing the data')                                    # Ask the user to select the folder containing the data\n",
    "root_folder = os.path.dirname(data_folder)                                                                              # Get the root folder\n",
    "result_folder = os.path.join(root_folder, 'results_er4000')                                                             # Create the result folder\n",
    "\n",
    "if not os.path.exists(result_folder):                                                                                   # If the result folder does not exist\n",
    "    os.makedirs(result_folder)                                                                                          # Create it\n",
    "else:\n",
    "    print('The folder already exists. The data will be overwritten.')                                                   # Otherwise, warn the user that the data will be overwritten\n",
    "\n",
    "print('The data folder is: {}'.format(data_folder))                                                                     # Print the data folder\n",
    "print('The result folder is: {}'.format(result_folder))                                                                 # Print the result folder"
   ]
  },
  {
   "cell_type": "code",
   "execution_count": 7,
   "metadata": {},
   "outputs": [
    {
     "data": {
      "text/plain": [
       "{'animal_01': {'act_files': ['E:/github/nnc-ufmg/circadipy/src/analysis_examples/er4000/data\\\\1_control_dl\\\\control_dl_ale_animal_03.asc',\n",
       "   'E:/github/nnc-ufmg/circadipy/src/analysis_examples/er4000/data\\\\2_control_dd\\\\control_dd_part1_ale_animal_03.asc',\n",
       "   'E:/github/nnc-ufmg/circadipy/src/analysis_examples/er4000/data\\\\3_control_dd\\\\control_dd_part2_ale_animal_03.asc',\n",
       "   'E:/github/nnc-ufmg/circadipy/src/analysis_examples/er4000/data\\\\4_hypo_induction\\\\hypo_induction_ale_animal_03.asc',\n",
       "   'E:/github/nnc-ufmg/circadipy/src/analysis_examples/er4000/data\\\\5_hypo_dd\\\\hypo_dd_ale_animal_03.asc',\n",
       "   'E:/github/nnc-ufmg/circadipy/src/analysis_examples/er4000/data\\\\6_hypo_dl\\\\hypo_dl_ale_animal_03.asc'],\n",
       "  'tmp_files': ['E:/github/nnc-ufmg/circadipy/src/analysis_examples/er4000/data\\\\1_control_dl\\\\control_dl_temp_animal_03.asc',\n",
       "   'E:/github/nnc-ufmg/circadipy/src/analysis_examples/er4000/data\\\\2_control_dd\\\\control_dd_part1_temp_animal_03.asc',\n",
       "   'E:/github/nnc-ufmg/circadipy/src/analysis_examples/er4000/data\\\\3_control_dd\\\\control_dd_part2_temp_animal_03.asc',\n",
       "   'E:/github/nnc-ufmg/circadipy/src/analysis_examples/er4000/data\\\\4_hypo_induction\\\\hypo_induction_temp_animal_03.asc',\n",
       "   'E:/github/nnc-ufmg/circadipy/src/analysis_examples/er4000/data\\\\5_hypo_dd\\\\hypo_dd_temp_animal_03.asc',\n",
       "   'E:/github/nnc-ufmg/circadipy/src/analysis_examples/er4000/data\\\\6_hypo_dl\\\\hypo_dl_temp_animal_03.asc']},\n",
       " 'animal_02': {'act_files': ['E:/github/nnc-ufmg/circadipy/src/analysis_examples/er4000/data\\\\1_control_dl\\\\control_dl_ale_animal_04.asc',\n",
       "   'E:/github/nnc-ufmg/circadipy/src/analysis_examples/er4000/data\\\\2_control_dd\\\\control_dd_part1_ale_animal_04.asc',\n",
       "   'E:/github/nnc-ufmg/circadipy/src/analysis_examples/er4000/data\\\\3_control_dd\\\\control_dd_part2_ale_animal_04.asc',\n",
       "   'E:/github/nnc-ufmg/circadipy/src/analysis_examples/er4000/data\\\\4_hypo_induction\\\\hypo_induction_ale_animal_04.asc',\n",
       "   'E:/github/nnc-ufmg/circadipy/src/analysis_examples/er4000/data\\\\5_hypo_dd\\\\hypo_dd_ale_animal_04.asc',\n",
       "   'E:/github/nnc-ufmg/circadipy/src/analysis_examples/er4000/data\\\\6_hypo_dl\\\\hypo_dl_ale_animal_04.asc'],\n",
       "  'tmp_files': ['E:/github/nnc-ufmg/circadipy/src/analysis_examples/er4000/data\\\\1_control_dl\\\\control_dl_temp_animal_04.asc',\n",
       "   'E:/github/nnc-ufmg/circadipy/src/analysis_examples/er4000/data\\\\2_control_dd\\\\control_dd_part1_temp_animal_04.asc',\n",
       "   'E:/github/nnc-ufmg/circadipy/src/analysis_examples/er4000/data\\\\3_control_dd\\\\control_dd_part2_temp_animal_04.asc',\n",
       "   'E:/github/nnc-ufmg/circadipy/src/analysis_examples/er4000/data\\\\4_hypo_induction\\\\hypo_induction_temp_animal_04.asc',\n",
       "   'E:/github/nnc-ufmg/circadipy/src/analysis_examples/er4000/data\\\\5_hypo_dd\\\\hypo_dd_temp_animal_04.asc',\n",
       "   'E:/github/nnc-ufmg/circadipy/src/analysis_examples/er4000/data\\\\6_hypo_dl\\\\hypo_dl_temp_animal_04.asc']},\n",
       " 'animal_03': {'act_files': ['E:/github/nnc-ufmg/circadipy/src/analysis_examples/er4000/data\\\\1_control_dl\\\\control_dl_ale_animal_06.asc',\n",
       "   'E:/github/nnc-ufmg/circadipy/src/analysis_examples/er4000/data\\\\2_control_dd\\\\control_dd_part1_ale_animal_06.asc',\n",
       "   'E:/github/nnc-ufmg/circadipy/src/analysis_examples/er4000/data\\\\3_control_dd\\\\control_dd_part2_ale_animal_06.asc',\n",
       "   'E:/github/nnc-ufmg/circadipy/src/analysis_examples/er4000/data\\\\4_hypo_induction\\\\hypo_induction_ale_animal_06.asc',\n",
       "   'E:/github/nnc-ufmg/circadipy/src/analysis_examples/er4000/data\\\\5_hypo_dd\\\\hypo_dd_ale_animal_06.asc',\n",
       "   'E:/github/nnc-ufmg/circadipy/src/analysis_examples/er4000/data\\\\6_hypo_dl\\\\hypo_dl_ale_animal_06.asc'],\n",
       "  'tmp_files': ['E:/github/nnc-ufmg/circadipy/src/analysis_examples/er4000/data\\\\1_control_dl\\\\control_dl_temp_animal_06.asc',\n",
       "   'E:/github/nnc-ufmg/circadipy/src/analysis_examples/er4000/data\\\\2_control_dd\\\\control_dd_part1_temp_animal_06.asc',\n",
       "   'E:/github/nnc-ufmg/circadipy/src/analysis_examples/er4000/data\\\\3_control_dd\\\\control_dd_part2_temp_animal_06.asc',\n",
       "   'E:/github/nnc-ufmg/circadipy/src/analysis_examples/er4000/data\\\\4_hypo_induction\\\\hypo_induction_temp_animal_06.asc',\n",
       "   'E:/github/nnc-ufmg/circadipy/src/analysis_examples/er4000/data\\\\5_hypo_dd\\\\hypo_dd_temp_animal_06.asc',\n",
       "   'E:/github/nnc-ufmg/circadipy/src/analysis_examples/er4000/data\\\\6_hypo_dl\\\\hypo_dl_temp_animal_06.asc']}}"
      ]
     },
     "metadata": {},
     "output_type": "display_data"
    }
   ],
   "source": [
    "labels = ['1_control_dl', '2_control_dd', '3_control_dd', '4_hypo_induction', '5_hypo_dd', '6_hypo_dl']\n",
    "name_labels = ['1_control_dl', '2_control_dd', '2_control_dd', '3_hypo_dd', '3_hypo_dd', '4_hypo_dl']\n",
    "cycles = ['DL', 'DD', 'DD', 'DD', 'DD', 'DL']\n",
    "\n",
    "protocol_files = {}\n",
    "for label in labels:\n",
    "    protocol_files[label] = {'folder': data_folder + \"\\\\\" + label}\n",
    "\n",
    "for key in protocol_files.keys():\n",
    "    file_in_dir = os.listdir(protocol_files[key]['folder'])\n",
    "    protocol_files[key]['files'] = [file for file in file_in_dir if file.endswith(\".asc\")]\n",
    "    protocol_files[key]['files'].sort()\n",
    "\n",
    "animals = {}\n",
    "\n",
    "number_of_protocols = 3\n",
    "\n",
    "for count in range(0, number_of_protocols):\n",
    "    if count < 10 - 1:\n",
    "        animals[\"animal_0\" + str(count + 1)] = {}\n",
    "        animals[\"animal_0\" + str(count + 1)]['act_files'] = []\n",
    "        animals[\"animal_0\" + str(count + 1)]['tmp_files'] = []\n",
    "    else:\n",
    "        animals[\"animal_\" + str(count + 1)] = {}\n",
    "        animals[\"animal_\" + str(count + 1)]['act_files'] = []\n",
    "        animals[\"animal_\" + str(count + 1)]['tmp_files'] = []\n",
    "\n",
    "for key in protocol_files.keys():\n",
    "    for count in range(0, number_of_protocols):\n",
    "        if count < 10 - 1:\n",
    "            animals[\"animal_0\" + str(count + 1)]['act_files'].append(protocol_files[key]['folder'] + \"\\\\\" + protocol_files[key]['files'][count])\n",
    "            #animals[\"animal_0\" + str(count + 1)]['result_folder'] = result_folder + \"\\\\\" + \"animal_0\" + str(count + 1)\n",
    "        else:\n",
    "            animals[\"animal_\" + str(count + 1)]['act_files'].append(protocol_files[key]['folder'] + \"\\\\\" + protocol_files[key]['files'][count])\n",
    "            #animals[\"animal_\" + str(count + 1)]['result_folder'] = result_folder + \"\\\\\" + \"animal_\" + str(count + 1)\n",
    "    for count in range(number_of_protocols, number_of_protocols*2):\n",
    "        if count < 10 + number_of_protocols - 1:\n",
    "            animals[\"animal_0\" + str(count - number_of_protocols + 1)]['tmp_files'].append(protocol_files[key]['folder'] + \"\\\\\" + protocol_files[key]['files'][count])\n",
    "        else:\n",
    "            animals[\"animal_\" + str(count - number_of_protocols + 1)]['tmp_files'].append(protocol_files[key]['folder'] + \"\\\\\" + protocol_files[key]['files'][count])\n",
    "\n",
    "display(animals)"
   ]
  },
  {
   "cell_type": "code",
   "execution_count": 8,
   "metadata": {},
   "outputs": [],
   "source": [
    "# SET THE PARAMETERS TO ANALYZE --------\n",
    "\n",
    "filter = True\n",
    "filter_type = 'moving_average'\n",
    "normalize = False\n",
    "normalize_per_day = False\n",
    "animal_select = list(range(1, len(animals) + 1))\n",
    "#animal_select = []\n",
    "zt_0_time = 20  \n",
    "\n",
    "# SET THE PARAMETERS TO ANALYZE --------\n",
    "\n",
    "protocols = []\n",
    "animals_keys = []\n",
    "num_animals = len(list(animals.keys()))\n",
    "\n",
    "select_index = [s - 1 for s in animal_select]"
   ]
  },
  {
   "cell_type": "code",
   "execution_count": 9,
   "metadata": {},
   "outputs": [
    {
     "data": {
      "text/plain": [
       "['data', 'er4000_analysis.ipynb', 'results_er4000']"
      ]
     },
     "execution_count": 9,
     "metadata": {},
     "output_type": "execute_result"
    }
   ],
   "source": [
    "os.listdir(root_folder)"
   ]
  },
  {
   "cell_type": "code",
   "execution_count": 10,
   "metadata": {},
   "outputs": [
    {
     "name": "stdout",
     "output_type": "stream",
     "text": [
      "Folder animal_01 created!\n",
      "Folder animal_02 created!\n",
      "Folder animal_03 created!\n"
     ]
    }
   ],
   "source": [
    "def reset_folder(folder):\n",
    "    for root, dirs, files in os.walk(folder):\n",
    "        for f in files:\n",
    "            os.unlink(os.path.join(root, f))\n",
    "        for d in dirs:\n",
    "            rmtree(os.path.join(root, d))\n",
    "\n",
    "if result_folder.split(\"\\\\\")[-1] not in os.listdir(root_folder):\n",
    "    os.mkdir(result_folder)\n",
    "    print(\"Folder results created!\")\n",
    "\n",
    "for count, key in enumerate(list(animals.keys())):\n",
    "    if count in select_index:\n",
    "        if key not in os.listdir(result_folder):\n",
    "            os.mkdir(result_folder + '\\\\' + key)\n",
    "            print(\"Folder \" + key + \" created!\")\n",
    "        else:\n",
    "            reset_folder(result_folder + '\\\\' + key)\n",
    "            print(\"Folder \" + key + \" cleaned!\")"
   ]
  },
  {
   "cell_type": "code",
   "execution_count": 23,
   "metadata": {},
   "outputs": [
    {
     "name": "stdout",
     "output_type": "stream",
     "text": [
      "Running analysis with the following parameters:\n",
      " - Filter: True\n",
      " - Filter type: moving_average\n",
      " - Normalize: False\n",
      " - Normalize per day: False\n",
      " - Animal select: [1, 2, 3]\n",
      " - ZT 0 time: 20\n",
      " - Labels dict: [{'cycle_types': ['DL'], 'test_labels': ['1_control_dl'], 'cycle_days': []}, {'cycle_types': ['DD'], 'test_labels': ['2_control_dd'], 'cycle_days': []}, {'cycle_types': ['DD'], 'test_labels': ['2_control_dd'], 'cycle_days': []}, {'cycle_types': ['DD'], 'test_labels': ['3_induction_dd'], 'cycle_days': []}, {'cycle_types': ['DD'], 'test_labels': ['4_hypo_dd'], 'cycle_days': []}, {'cycle_types': ['DL'], 'test_labels': ['5_hypo_dl'], 'cycle_days': []}]\n",
      "\n",
      "\n",
      "<class 'numpy.ndarray'>\n",
      "Animal: animal_01, start date: 2022-06-08 00:00:00, end date: 2022-09-08 15:00:00\n",
      "<class 'numpy.ndarray'>\n",
      "Animal: animal_02, start date: 2022-06-08 00:00:00, end date: 2022-09-08 15:00:00\n",
      "<class 'numpy.ndarray'>\n",
      "Animal: animal_03, start date: 2022-06-08 00:00:00, end date: 2022-09-08 15:00:00\n"
     ]
    }
   ],
   "source": [
    "labels_dict = [{'cycle_types': ['DL'], 'test_labels': ['1_control_dl'], 'cycle_days': []},\n",
    "               {'cycle_types': ['DD'], 'test_labels': ['2_control_dd'], 'cycle_days': []},\n",
    "               {'cycle_types': ['DD'], 'test_labels': ['2_control_dd'], 'cycle_days': []},\n",
    "               {'cycle_types': ['DD'], 'test_labels': ['3_induction_dd'], 'cycle_days': []},\n",
    "               {'cycle_types': ['DD'], 'test_labels': ['4_hypo_dd'], 'cycle_days': []},\n",
    "               {'cycle_types': ['DL'], 'test_labels': ['5_hypo_dl'], 'cycle_days': []}]               \n",
    "\n",
    "description = 'Running analysis with the following parameters:\\n - Filter: ' + str(filter) + '\\n - Filter type: ' + filter_type + '\\n - Normalize: ' + str(normalize) + '\\n - Normalize per day: ' + str(normalize_per_day) + '\\n - Animal select: ' + str(animal_select) + '\\n - ZT 0 time: ' + str(zt_0_time) + '\\n - Labels dict: ' + str(labels_dict)\n",
    "print(description)\n",
    "print('\\n')\n",
    "\n",
    "for count, animal in enumerate(animals):\n",
    "    if count in select_index:\n",
    "        for label in range(0, len(labels_dict)):\n",
    "            if label == 0:\n",
    "                animals[animal]['tmp_protocol'] = chr.read_protocol(animal, animals[animal]['tmp_files'][label], zt_0_time = zt_0_time, labels_dict = labels_dict[label], type = 'er4000', consider_first_day = False)               \n",
    "                nans_to_correct_act = animals[animal]['tmp_protocol'].get_is_nan_indexes()\n",
    "                animals[animal]['tmp_protocol'].resample('1H', method = 'last')\n",
    "                animals[animal]['act_protocol'] = chr.read_protocol(animal, animals[animal]['act_files'][label], zt_0_time = zt_0_time, labels_dict = labels_dict[label], type = 'er4000', consider_first_day = False, set_nans = nans_to_correct_act)               \n",
    "                animals[animal]['act_protocol'].resample('1H', method = 'sum')\n",
    "            else:\n",
    "                next_protocol = chr.read_protocol(animal, animals[animal]['tmp_files'][label], zt_0_time = zt_0_time, labels_dict = labels_dict[label], type = 'er4000', consider_first_day = True)\n",
    "                nans_to_correct_act = next_protocol.get_is_nan_indexes()\n",
    "                next_protocol.resample('1H', method = 'last')\n",
    "                animals[animal]['tmp_protocol'].concat_protocols(next_protocol, method = 'last')\n",
    "\n",
    "                next_protocol = chr.read_protocol(animal, animals[animal]['act_files'][label], zt_0_time = zt_0_time, labels_dict = labels_dict[label], type = 'er4000', consider_first_day = True, set_nans = nans_to_correct_act)\n",
    "                next_protocol.resample('1H', method = 'sum')\n",
    "                animals[animal]['act_protocol'].concat_protocols(next_protocol, method = 'sum')\n",
    "\n",
    "        if filter:\n",
    "            animals[animal]['tmp_protocol'].apply_filter(window = 3, type = filter_type, order = 2, reverse = False)\n",
    "            animals[animal]['act_protocol'].apply_filter(window = 3, type = filter_type, order = 2, reverse = False)\n",
    "        if normalize:\n",
    "            animals[animal]['tmp_protocol'].normalize_data(type = 'minmax', per_day = normalize_per_day)\n",
    "            animals[animal]['act_protocol'].normalize_data(type = 'minmax', per_day = normalize_per_day)\n",
    "        \n",
    "        animals[animal]['tmp_protocol'].correct_labels()\n",
    "        animals[animal]['act_protocol'].correct_labels()\n",
    "        start_date_tmp = animals[animal]['tmp_protocol'].start_date\n",
    "        end_date_tmp = animals[animal]['tmp_protocol'].end_date\n",
    "        start_date_act = animals[animal]['act_protocol'].start_date\n",
    "        end_date_act = animals[animal]['act_protocol'].end_date\n",
    "\n",
    "        if start_date_tmp == start_date_act and end_date_tmp == end_date_act:\n",
    "            print('Animal: ' + animal + ', start date: ' + str(start_date_act) + ', end date: ' + str(end_date_act))\n",
    "        else:\n",
    "            print('SOMETHING IS WRONG WITH THE PROTOCOLS OF ANIMAL ' + animal + '!!!')\n",
    "\n"
   ]
  },
  {
   "cell_type": "code",
   "execution_count": 30,
   "metadata": {},
   "outputs": [
    {
     "name": "stdout",
     "output_type": "stream",
     "text": [
      "Animal 01 temperature actograms saved!\n",
      "Animal 02 temperature actograms saved!\n",
      "Animal 03 temperature actograms saved!\n"
     ]
    }
   ],
   "source": [
    "format = 'svg'\n",
    "\n",
    "for count, animal in enumerate(animals):\n",
    "    if count in select_index:\n",
    "        save_folder = result_folder + '\\\\' + animal\n",
    "        chp.actogram_bar(animals[animal]['tmp_protocol'], first_hour = 18, save_folder = save_folder, save_suffix = 'tmp', adjust_figure = [1.2, 0.85, 0.85, 0.2, 0.15], format = format, norm_value = [33, 40])\n",
    "        chp.actogram_colormap(animals[animal]['tmp_protocol'], first_hour = 18, save_folder = save_folder, save_suffix = 'tmp', adjust_figure = [1.2, 0.85, 0.85, 0.2, 0.15], format = format, norm_color = [33, 40])\n",
    "        chp.data_periodogram(animals[animal]['tmp_protocol'], time_shape = 'continuous', method = 'periodogram', max_period = 48, unit_of_measurement = '°C', save_folder = save_folder, save_suffix = 'tmp_periodogram', format = format)\n",
    "        chp.data_periodogram(animals[animal]['tmp_protocol'], time_shape = 'continuous', method = 'welch', max_period = 48, unit_of_measurement = '°C', save_folder = save_folder, save_suffix = 'tmp_welch', format = format)\n",
    "        print(animal.replace('_', ' ').capitalize() + ' temperature actograms saved!')\n",
    "\n",
    "        chp.actogram_bar(animals[animal]['act_protocol'], first_hour = 18, save_folder = save_folder, save_suffix = 'act', format = format)\n",
    "        chp.actogram_colormap(animals[animal]['act_protocol'], first_hour = 18, save_folder = save_folder, save_suffix = 'act', format = format)\n",
    "        chp.data_periodogram(animals[animal]['act_protocol'], time_shape = 'continuous', method = 'periodogram', max_period = 48, unit_of_measurement = 'COUNTS', save_folder = save_folder, save_suffix = 'act_periodogram', format = format)\n",
    "        chp.data_periodogram(animals[animal]['act_protocol'], time_shape = 'continuous', method = 'welch', max_period = 48, unit_of_measurement = 'COUNTS', save_folder = save_folder, save_suffix = 'act_welch', format = format)\n",
    "        print(animal.replace('_', ' ').capitalize() + ' activity actograms saved!')"
   ]
  },
  {
   "cell_type": "code",
   "execution_count": 35,
   "metadata": {},
   "outputs": [
    {
     "name": "stdout",
     "output_type": "stream",
     "text": [
      "Cosinor fitted to animal 01 and results saved!\n",
      "Time elapsed: 113.45 seconds\n",
      "Cosinor fitted to animal 02 and results saved!\n",
      "Time elapsed: 106.00 seconds\n",
      "Cosinor fitted to animal 03 and results saved!\n",
      "Time elapsed: 111.40 seconds\n"
     ]
    }
   ],
   "source": [
    "dict = {'time_shape': 'continuous', \n",
    "        'step': 0.01, \n",
    "        'start_time': 22, \n",
    "        'end_time': 26, \n",
    "        'n_components': [1]}\n",
    "\n",
    "best_models = []\n",
    "\n",
    "for count, animal in enumerate(animals):\n",
    "    if count in select_index:\n",
    "        init = time.time()\n",
    "\n",
    "        save_folder = result_folder + '\\\\' + animal\n",
    "\n",
    "        tmp_best_models, _ = chrt.fit_cosinor(animals[animal]['tmp_protocol'], dict = dict, save_folder = save_folder, save_suffix = 'tmp')\n",
    "        tmp_best_models_fixed, _ = chrt.fit_cosinor_fixed_period(animals[animal]['tmp_protocol'], tmp_best_models, save_folder = save_folder, save_suffix = 'tmp')    \n",
    "        animals[animal]['tmp_best_models'] = tmp_best_models\n",
    "        animals[animal]['tmp_best_models_fixed'] = tmp_best_models_fixed    \n",
    "\n",
    "        act_best_models, _ = chrt.fit_cosinor(animals[animal]['act_protocol'], dict = dict, save_folder = save_folder, save_suffix = 'act')\n",
    "        act_best_models_fixed, _ = chrt.fit_cosinor_fixed_period(animals[animal]['act_protocol'], act_best_models, save_folder = save_folder, save_suffix = 'act')  \n",
    "        animals[animal]['act_best_models'] = act_best_models\n",
    "        animals[animal]['act_best_models_fixed'] = act_best_models_fixed    \n",
    "\n",
    "        end = time.time() - init\n",
    "\n",
    "        print(\"Cosinor fitted to \" + animal.replace('_', ' ') + \" and results saved!\")\n",
    "        print(\"Time elapsed: \" + \"{:.2f}\".format(end) + \" seconds\")"
   ]
  },
  {
   "cell_type": "code",
   "execution_count": null,
   "metadata": {},
   "outputs": [
    {
     "name": "stdout",
     "output_type": "stream",
     "text": [
      "Cosinor overview animal 01 saved!\n",
      "Time elapsed: 13.58 seconds\n",
      "Cosinor overview animal 02 saved!\n",
      "Time elapsed: 13.57 seconds\n",
      "Cosinor overview animal 03 saved!\n",
      "Time elapsed: 13.90 seconds\n",
      "Cosinor overview animal 04 saved!\n",
      "Time elapsed: 15.40 seconds\n",
      "Cosinor overview animal 05 saved!\n",
      "Time elapsed: 14.40 seconds\n",
      "Cosinor overview animal 06 saved!\n",
      "Time elapsed: 15.80 seconds\n",
      "Cosinor overview animal 07 saved!\n",
      "Time elapsed: 15.09 seconds\n",
      "Cosinor overview animal 08 saved!\n",
      "Time elapsed: 13.66 seconds\n",
      "Cosinor overview animal 09 saved!\n",
      "Time elapsed: 13.96 seconds\n",
      "Cosinor overview animal 10 saved!\n",
      "Time elapsed: 14.67 seconds\n"
     ]
    }
   ],
   "source": [
    "for count, animal in enumerate(animals):\n",
    "    if count in select_index:\n",
    "        init = time.time()\n",
    "        \n",
    "        save_folder = result_folder + '\\\\' + animal\n",
    "\n",
    "        chrt.plot_cosinor(animals[animal]['tmp_protocol'], animals[animal]['tmp_best_models_fixed'], save_folder = save_folder, save_suffix = 'tmp', format = format)\n",
    "        chrt.plot_cosinor_model_overview(animals[animal]['tmp_protocol'], animals[animal]['tmp_best_models'], save_folder = save_folder, save_suffix = 'tmp', format = format)\n",
    "        chrt.plot_cosinor_model_over_signal(animals[animal]['tmp_protocol'], animals[animal]['tmp_best_models'], position = 'head', mv_avg_window = 1, save_folder = save_folder, save_suffix = 'tmp', format = format)\n",
    "\n",
    "        chrt.plot_cosinor(animals[animal]['act_protocol'], animals[animal]['act_best_models_fixed'], save_folder = save_folder, save_suffix = 'act', format = format)\n",
    "        chrt.plot_cosinor_model_overview(animals[animal]['act_protocol'], animals[animal]['act_best_models'], save_folder = save_folder, save_suffix = 'act', format = format)\n",
    "        chrt.plot_cosinor_model_over_signal(animals[animal]['act_protocol'], animals[animal]['act_best_models'], position = 'head', mv_avg_window = 1, save_folder = save_folder, save_suffix = 'act', format = format)\n",
    "\n",
    "        end = time.time() - init\n",
    "\n",
    "        print(\"Cosinor overview \" + animal.replace('_', ' ') + \" saved!\")\n",
    "        print(\"Time elapsed: \" + \"{:.2f}\".format(end) + \" seconds\")"
   ]
  }
 ],
 "metadata": {
  "kernelspec": {
   "display_name": "chrono",
   "language": "python",
   "name": "python3"
  },
  "language_info": {
   "codemirror_mode": {
    "name": "ipython",
    "version": 3
   },
   "file_extension": ".py",
   "mimetype": "text/x-python",
   "name": "python",
   "nbconvert_exporter": "python",
   "pygments_lexer": "ipython3",
   "version": "3.8.16"
  },
  "orig_nbformat": 4,
  "vscode": {
   "interpreter": {
    "hash": "2939af26a36fc942e0c066bfc7148c204547295e343f43ef46c39eb3082d0963"
   }
  }
 },
 "nbformat": 4,
 "nbformat_minor": 2
}
